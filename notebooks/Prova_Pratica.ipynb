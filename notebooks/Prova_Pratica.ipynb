{
  "cells": [
    {
      "cell_type": "markdown",
      "metadata": {},
      "source": [
        "<a href=\"https://colab.research.google.com/github/DavideScassola/data_analysis_laboratory/blob/main/notebooks/Prova_Pratica.ipynb\" target=\"_parent\"><img src=\"https://colab.research.google.com/assets/colab-badge.svg\" alt=\"Open In Colab\"/></a>"
      ]
    },
    {
      "cell_type": "markdown",
      "metadata": {
        "id": "35Y4JxKy3lZj"
      },
      "source": [
        "# Prova in classe\n",
        "\n",
        "Ora tocca voi, sulla base del notebook visto in classe provate a creare un albero decisionale per classificare la specie dei pinguini\n",
        "\n"
      ]
    },
    {
      "cell_type": "code",
      "execution_count": null,
      "metadata": {
        "colab": {
          "base_uri": "https://localhost:8080/",
          "height": 206
        },
        "id": "kfXIANLs8w9b",
        "outputId": "792fe4e6-b6b1-4341-8a0a-d5418ec86854"
      },
      "outputs": [],
      "source": [
        "# Importa le librerie necessarie\n",
        "import pandas as pd\n",
        "\n",
        "LINK_DATI = 'https://raw.githubusercontent.com/DavideScassola/data_analysys_laboratory/main/notebooks/dati/penguins.csv'\n",
        "df = pd.read_csv(LINK_DATI)\n",
        "\n",
        "# Visualizza le prime righe del DataFrame\n",
        "df.head()\n"
      ]
    },
    {
      "cell_type": "markdown",
      "metadata": {
        "id": "qB8oG1oZ37Np"
      },
      "source": [
        "\n",
        "*   Prova a descrivere i dati, quali sono le variabili?\n",
        "*   Cosa potremmo fare con i valori mancanti?\n"
      ]
    },
    {
      "cell_type": "code",
      "execution_count": null,
      "metadata": {
        "colab": {
          "base_uri": "https://localhost:8080/"
        },
        "id": "hFCbCgwhHySM",
        "outputId": "01354667-aa4b-4550-c481-af4ef68448af"
      },
      "outputs": [],
      "source": [
        "# dimensioni dataset\n",
        "df.shape"
      ]
    },
    {
      "cell_type": "code",
      "execution_count": null,
      "metadata": {
        "colab": {
          "base_uri": "https://localhost:8080/"
        },
        "id": "i6fEZPF_4I4z",
        "outputId": "22c4a264-9dcd-44d3-98d7-5c54ba1a3376"
      },
      "outputs": [],
      "source": [
        "# Visualizzare il numero di valori mancanti per ogni colonna\n",
        "valori_mancanti_per_colonna = df.isna().sum()\n",
        "print(\"Valori mancanti per colonna:\\n\", valori_mancanti_per_colonna)\n",
        "\n",
        "# Eliminare le righe con valori mancanti\n",
        "df_senza_mancanti = df.dropna()\n",
        "\n",
        "# Visualizzare il DataFrame senza valori mancanti\n",
        "print(\"\\nDataFrame senza valori mancanti:\\n\", df_senza_mancanti)"
      ]
    },
    {
      "cell_type": "markdown",
      "metadata": {
        "id": "wttqIlWtAjTP"
      },
      "source": [
        "# EDA"
      ]
    },
    {
      "cell_type": "markdown",
      "metadata": {
        "id": "OARodMp4A4rR"
      },
      "source": [
        " L'analisi esplorativa dei dati (EDA) è un passo cruciale per comprendere meglio il tuo dataset. Puoi utilizzare diverse librerie Python per condurre l'EDA, come `matplotlib`, `seaborn`, e `pandas`.\n"
      ]
    },
    {
      "cell_type": "code",
      "execution_count": null,
      "metadata": {
        "colab": {
          "base_uri": "https://localhost:8080/",
          "height": 472
        },
        "id": "xhKU2jahmE-h",
        "outputId": "7f709d1a-6046-4d19-b46a-c6e7ad03756a"
      },
      "outputs": [],
      "source": [
        "import seaborn as sns\n",
        "import matplotlib.pyplot as plt\n",
        "\n",
        "# Crea uno scatter plot per i valori continui (esempio: 'bill_length_mm' vs 'bill_depth_mm')\n",
        "sns.scatterplot(x='bill_length_mm', y='bill_depth_mm', hue='species' , data=df_senza_mancanti)\n",
        "\n",
        "# Aggiungi titolo e etichette degli assi\n",
        "plt.title('Scatter Plot - Bill Length vs Bill Depth')\n",
        "plt.xlabel('Bill Length (mm)')\n",
        "plt.ylabel('Bill Depth (mm)')\n",
        "\n",
        "# Mostra il grafico\n",
        "plt.show()"
      ]
    },
    {
      "cell_type": "code",
      "execution_count": null,
      "metadata": {
        "colab": {
          "base_uri": "https://localhost:8080/"
        },
        "id": "APl1oCQBAIOt",
        "outputId": "f550668c-2245-4b06-f93a-d0a7d7a936d6"
      },
      "outputs": [],
      "source": [
        "import numpy as np\n",
        "\n",
        "# Informazioni sul dataset\n",
        "print(\"\\nInformazioni sul dataset:\")\n",
        "print(df_senza_mancanti.info())\n",
        "\n",
        "# Statistiche descrittive\n",
        "print(\"\\nStatistiche descrittive:\")\n",
        "print(df_senza_mancanti.describe())\n",
        "\n",
        "\n"
      ]
    },
    {
      "cell_type": "code",
      "execution_count": null,
      "metadata": {
        "colab": {
          "base_uri": "https://localhost:8080/",
          "height": 410
        },
        "id": "miWybiKVHX1V",
        "outputId": "aed964e0-0d18-4a5f-a01b-057437b12396"
      },
      "outputs": [],
      "source": [
        "\n",
        "# Distribuzione delle classi nel target\n",
        "plt.figure(figsize=(6, 4))\n",
        "df_senza_mancanti['species'].value_counts().plot(kind='bar', color=['skyblue', 'salmon'])\n",
        "plt.title('Distribuzione delle classi nel target')\n",
        "plt.xlabel('Classe')\n",
        "plt.ylabel('Conteggio')\n",
        "plt.xticks(rotation=0)\n",
        "plt.show()\n"
      ]
    },
    {
      "cell_type": "markdown",
      "metadata": {
        "id": "gaQEHGdICET6"
      },
      "source": [
        "# Divisione in train e test set"
      ]
    },
    {
      "cell_type": "markdown",
      "metadata": {
        "id": "Um_7zAl3CNAK"
      },
      "source": [
        "La divisione del dataset in un training set e un test set è un passo fondamentale nell'addestramento e nella valutazione di modelli di apprendimento automatico. Questa pratica aiuta a valutare l'efficacia del modello su dati non visti, fornendo una stima delle sue prestazioni su nuovi dati."
      ]
    },
    {
      "cell_type": "code",
      "execution_count": null,
      "metadata": {
        "colab": {
          "base_uri": "https://localhost:8080/",
          "height": 206
        },
        "id": "5JbvD-NZA0Qo",
        "outputId": "6b7645a0-a684-4be4-a8e0-b34a4ed7b106"
      },
      "outputs": [],
      "source": [
        "# Otteniamo un subset X senza la nostra variabile target\n",
        "X = df_senza_mancanti.drop(['species','island','sex'],axis=1)\n",
        "X.head()\n"
      ]
    },
    {
      "cell_type": "code",
      "execution_count": null,
      "metadata": {
        "colab": {
          "base_uri": "https://localhost:8080/"
        },
        "id": "97FxvqzvGEL8",
        "outputId": "b849c544-f187-4264-90ec-59caadb66a4a"
      },
      "outputs": [],
      "source": [
        "# Andiamo a selezionare la variabile che vogliamo classificare etichettandola come y\n",
        "y = df_senza_mancanti['species']\n",
        "y.head()"
      ]
    },
    {
      "cell_type": "code",
      "execution_count": null,
      "metadata": {
        "id": "TmrKJ96SF8ZZ"
      },
      "outputs": [],
      "source": [
        "from sklearn.model_selection import train_test_split\n",
        "\n",
        "\n",
        "# Suddividere il dataset in set di addestramento e test\n",
        "X_train, X_test, y_train, y_test = train_test_split(X, y, test_size=0.2, random_state=42)"
      ]
    },
    {
      "cell_type": "markdown",
      "metadata": {
        "id": "XZQGmp7DCzok"
      },
      "source": [
        "Dopo la suddivisione del dataset in training e test set, è importante esaminare la forma (shape) e la distribuzione dei dati in ciascun set. Ciò ti fornirà una visione dettagliata della dimensione dei set e dell'equilibrio delle classi. Di seguito, ti mostro come ottenere queste informazioni utilizzando Python e la libreria pandas."
      ]
    },
    {
      "cell_type": "code",
      "execution_count": null,
      "metadata": {
        "colab": {
          "base_uri": "https://localhost:8080/"
        },
        "id": "xcnQcTCfC1T-",
        "outputId": "36c51b5c-cf83-4cc0-e6e6-6ab66e4535d9"
      },
      "outputs": [],
      "source": [
        "# Converti array NumPy in oggetti Series di pandas\n",
        "y_train_series = pd.Series(y_train)\n",
        "y_test_series = pd.Series(y_test)\n",
        "\n",
        "# Informazioni sulla forma (shape) dei set di addestramento e test\n",
        "print(\"Shape del set di addestramento (X_train, y_train):\", X_train.shape, y_train_series.shape)\n",
        "print(\"Shape del set di test (X_test, y_test):\", X_test.shape, y_test_series.shape)\n",
        "\n",
        "# Distribuzione delle classi nei set di addestramento e test\n",
        "print(\"\\nDistribuzione delle classi nel set di addestramento:\")\n",
        "print(y_train_series.value_counts(normalize=True))\n",
        "\n",
        "print(\"\\nDistribuzione delle classi nel set di test:\")\n",
        "print(y_test_series.value_counts(normalize=True))\n"
      ]
    },
    {
      "cell_type": "markdown",
      "metadata": {
        "id": "vYsqkuBpD8DP"
      },
      "source": [
        "# Applicazione algoritmo"
      ]
    },
    {
      "cell_type": "code",
      "execution_count": null,
      "metadata": {
        "colab": {
          "base_uri": "https://localhost:8080/",
          "height": 1000
        },
        "id": "n_z36vy1DuKH",
        "outputId": "ae1f97ea-0565-4317-d80f-6eaa8f2c46da"
      },
      "outputs": [],
      "source": [
        "# Importa il modulo dell'albero decisionale da scikit-learn\n",
        "from sklearn.tree import DecisionTreeClassifier\n",
        "from sklearn.metrics import accuracy_score, classification_report, confusion_matrix\n",
        "from sklearn import tree\n",
        "\n",
        "# Crea un'istanza del modello di albero decisionale\n",
        "tree_model = DecisionTreeClassifier(random_state=42)\n",
        "\n",
        "# Addestra il modello sull'insieme di addestramento\n",
        "tree_model.fit(X_train, y_train)\n",
        "\n",
        "# Fai predizioni sull'insieme di test\n",
        "y_pred = tree_model.predict(X_test)\n",
        "\n",
        "# Valuta le prestazioni del modello\n",
        "accuracy = accuracy_score(y_test, y_pred)\n",
        "print(f'Accuracy del modello: {accuracy:.2f}')\n",
        "\n",
        "# Visualizza la matrice di confusione\n",
        "conf_matrix = confusion_matrix(y_test, y_pred)\n",
        "print('\\nMatrice di Confusione:')\n",
        "print(conf_matrix)\n",
        "\n",
        "# Visualizza il report di classificazione\n",
        "class_report = classification_report(y_test, y_pred)\n",
        "print('\\nReport di Classificazione:')\n",
        "print(class_report)\n",
        "\n",
        "# Visualizza l'albero decisionale\n",
        "plt.figure(figsize=(15, 10))\n",
        "tree.plot_tree(tree_model, feature_names=X.columns, class_names=['Adelie', 'Gentoo','Chinstrap'], filled=True, rounded=True)\n",
        "plt.show()\n"
      ]
    },
    {
      "cell_type": "markdown",
      "metadata": {
        "id": "EjjcM6r4E-Zf"
      },
      "source": [
        "Le metriche di qualità sono fondamentali per valutare le prestazioni di un modello di classificazione."
      ]
    },
    {
      "cell_type": "code",
      "execution_count": null,
      "metadata": {
        "colab": {
          "base_uri": "https://localhost:8080/"
        },
        "id": "KmU3h3RWEP9l",
        "outputId": "9e28a73b-6ba4-4286-b6f6-711f58f545c8"
      },
      "outputs": [],
      "source": [
        "# Calcola e stampa le metriche di qualità del modello\n",
        "precision = conf_matrix[1, 1] / (conf_matrix[1, 1] + conf_matrix[0, 1])\n",
        "recall = conf_matrix[1, 1] / (conf_matrix[1, 1] + conf_matrix[1, 0])\n",
        "f1_score = 2 * (precision * recall) / (precision + recall)\n",
        "\n",
        "print(f'Precision: {precision:.2f}')\n",
        "print(f'Recall: {recall:.2f}')\n",
        "print(f'F1 Score: {f1_score:.2f}')"
      ]
    },
    {
      "cell_type": "markdown",
      "metadata": {
        "id": "90hw3sNFEzx6"
      },
      "source": [
        "1. **Precision (Precisione):**\n",
        "   - La precisione misura la percentuale di istanze positive predette dal modello che sono realmente positive.\n",
        "   - Formula: `precision = TP / (TP + FP)`, dove TP è il numero di True Positives e FP è il numero di False Positives.\n",
        "\n",
        "2. **Recall (Recupero o Sensibilità):**\n",
        "   - Il recall misura la percentuale di istanze positive reali che sono state predette correttamente dal modello.\n",
        "   - Formula: `recall = TP / (TP + FN)`, dove TP è il numero di True Positives e FN è il numero di False Negatives.\n",
        "\n",
        "3. **F1 Score:**\n",
        "   - L'F1 Score è la media armonica di precision e recall, fornendo una singola metrica che tiene conto di entrambi.\n",
        "   - Formula: `F1 Score = 2 * (precision * recall) / (precision + recall)`.\n",
        "\n",
        "**Interpretazione:**\n",
        "- Una precisione elevata indica che quando il modello predice una classe positiva, è molto probabile che sia corretto.\n",
        "- Un recall elevato indica che il modello è in grado di individuare la maggior parte delle istanze positive reali.\n",
        "- L'F1 Score è particolarmente utile quando precisione e recall devono essere bilanciati.\n",
        "\n",
        "Ricorda che le metriche possono variare a seconda del contesto e degli obiettivi specifici del problema di classificazione. Ad esempio, in un contesto medico, potrebbe essere più critico avere un recall elevato per garantire la rilevazione di tutti i casi positivi.\n",
        "\n",
        "L'uso di queste metriche ti aiuterà a ottenere una comprensione più approfondita delle prestazioni del tuo modello e a prendere decisioni informate sulla sua efficacia nella risoluzione del problema di classificazione."
      ]
    }
  ],
  "metadata": {
    "colab": {
      "provenance": []
    },
    "kernelspec": {
      "display_name": "Python 3",
      "name": "python3"
    },
    "language_info": {
      "codemirror_mode": {
        "name": "ipython",
        "version": 3
      },
      "file_extension": ".py",
      "mimetype": "text/x-python",
      "name": "python",
      "nbconvert_exporter": "python",
      "pygments_lexer": "ipython3",
      "version": "3.10.12"
    }
  },
  "nbformat": 4,
  "nbformat_minor": 0
}
