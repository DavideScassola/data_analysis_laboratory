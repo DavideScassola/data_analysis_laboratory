{
 "cells": [
  {
   "cell_type": "markdown",
   "metadata": {},
   "source": [
    "<a href=\"https://colab.research.google.com/github/DavideScassola/data_analysys_laboratory/blob/main/notebooks/efficientamento_energetico2.ipynb\" target=\"_parent\"><img src=\"https://colab.research.google.com/assets/colab-badge.svg\" alt=\"Open In Colab\"/></a>"
   ]
  },
  {
   "cell_type": "markdown",
   "metadata": {},
   "source": [
    "# Analisi Dati: Laboratorio\n",
    "<img src=\"https://scontent-mxp2-1.xx.fbcdn.net/v/t39.30808-6/302095003_606466184289373_8672477649952855357_n.jpg?_nc_cat=110&ccb=1-7&_nc_sid=efb6e6&_nc_ohc=MDut0sWoOFAAX_XMGXN&_nc_ht=scontent-mxp2-1.xx&oh=00_AfBXEqmh42Af0IctMkI53eqPFbmQ2Xc92B0VW4avPrzfQA&oe=65C0CE00\" width=\"700\">\n",
    "\n",
    "Abbiamo trovato [qui](https://search.r-project.org/CRAN/refmans/MPV/html/gasdata.html) dei dati riguardo al consumo di gas una casa, la cui descrizione è la seguente:\n",
    "\n",
    "_\"This data frame contains the average monthly volume of natural gas used in the furnace of a 1600 square foot house located in London, Ontario, for each month from 2006 until 2011. It also contains the average temperature for each month, and a measure of degree days. Insulation was added to the roof on one occasions, the walls were insulated on a second occasion, and the mid-efficiency furnace was replaced with a high-efficiency furnace on a third occasion.\"_"
   ]
  },
  {
   "cell_type": "code",
   "execution_count": 16,
   "metadata": {},
   "outputs": [],
   "source": [
    "# Importiamo le librerie necessarie\n",
    "import pandas as pd\n",
    "import matplotlib.pyplot as plt"
   ]
  },
  {
   "cell_type": "markdown",
   "metadata": {},
   "source": [
    "1) Carica il dataset dal seguente link:\n",
    "https://raw.githubusercontent.com/DavideScassola/data_analysys_laboratory/main/notebooks/dati/gasdata.csv"
   ]
  },
  {
   "cell_type": "code",
   "execution_count": 17,
   "metadata": {},
   "outputs": [],
   "source": []
  },
  {
   "cell_type": "markdown",
   "metadata": {},
   "source": [
    "2) Visualizza la serie temporale delle temperature"
   ]
  },
  {
   "cell_type": "code",
   "execution_count": 18,
   "metadata": {},
   "outputs": [],
   "source": []
  },
  {
   "cell_type": "markdown",
   "metadata": {},
   "source": [
    "3) Puoi notare due colonne che indicano il consumo di gas per ogni mese. Uno indica il totale del mese e l'altra la media giornaliera.\n",
    "Quale colonna dovremmo includere nella nostra analisi? Quale delle due è più interessante?"
   ]
  },
  {
   "cell_type": "code",
   "execution_count": 19,
   "metadata": {},
   "outputs": [],
   "source": []
  },
  {
   "cell_type": "markdown",
   "metadata": {},
   "source": [
    "4) Visualizza la serie temporale del consumo di gas giornaliero"
   ]
  },
  {
   "cell_type": "code",
   "execution_count": 20,
   "metadata": {},
   "outputs": [],
   "source": []
  },
  {
   "cell_type": "markdown",
   "metadata": {},
   "source": [
    "5. Mostra in un grafico la temperatura e il consumo giornaliero di gas per ogni osservazione e colora i punti in base al mese\n",
    "Consiglio: usa la funzione `unique()` per estrarre la lista dei mesi"
   ]
  },
  {
   "cell_type": "code",
   "execution_count": 21,
   "metadata": {},
   "outputs": [],
   "source": []
  },
  {
   "cell_type": "markdown",
   "metadata": {},
   "source": [
    "6. Aggiungi una colonna al dataframe chiamata 'efficiency_level' contenente la somma delle colonne 'roof_insulation', 'wall_insulation' e 'high_efficiency_furnace'\n"
   ]
  },
  {
   "cell_type": "code",
   "execution_count": 22,
   "metadata": {},
   "outputs": [],
   "source": []
  },
  {
   "cell_type": "markdown",
   "metadata": {},
   "source": [
    "7. Mostra un grafico scatter con la temperatura e il consumo giornaliero di gas, questa volta colorando i punti in base al livello di efficienza energetico\n"
   ]
  },
  {
   "cell_type": "code",
   "execution_count": 23,
   "metadata": {},
   "outputs": [],
   "source": []
  },
  {
   "cell_type": "markdown",
   "metadata": {},
   "source": [
    "8. Addestra un modello lineare per predire il consumo giornaliero di gas in base alla temperatura\n"
   ]
  },
  {
   "cell_type": "code",
   "execution_count": 24,
   "metadata": {},
   "outputs": [],
   "source": []
  },
  {
   "cell_type": "markdown",
   "metadata": {},
   "source": [
    "9. Visualizza la retta di regressione insieme ai dati"
   ]
  },
  {
   "cell_type": "code",
   "execution_count": 25,
   "metadata": {},
   "outputs": [],
   "source": [
    " "
   ]
  },
  {
   "cell_type": "markdown",
   "metadata": {},
   "source": [
    "10. crea una copia del dataset, ma senza le osservazioni dove la temperatura è maggiore o uguale a 15 gradi"
   ]
  },
  {
   "cell_type": "code",
   "execution_count": 26,
   "metadata": {},
   "outputs": [],
   "source": []
  },
  {
   "cell_type": "markdown",
   "metadata": {},
   "source": [
    "11. Addestra un modello che predica il consumo giornaliero di gas in base alla temperatura e le informazioni disponibili sugli interventi di efficientamento energetico\n"
   ]
  },
  {
   "cell_type": "code",
   "execution_count": 27,
   "metadata": {},
   "outputs": [],
   "source": []
  },
  {
   "cell_type": "markdown",
   "metadata": {},
   "source": [
    "12. Utilizzando il modello addestrato, scrivi una funzione che prenda in input un dataframe contenente una colonna 'temp' con temperature e restituisca la differenza di consumo senza efficientamento e con efficientamento massimo"
   ]
  },
  {
   "cell_type": "code",
   "execution_count": null,
   "metadata": {},
   "outputs": [],
   "source": [
    "\n",
    "\n",
    "def differenza_consumo(X: pd.DataFrame):\n",
    "    pass\n",
    "\n",
    "def consumo_relativo(X: pd.DataFrame):\n",
    "    pass"
   ]
  },
  {
   "cell_type": "markdown",
   "metadata": {},
   "source": [
    "13. Visualizza il consumo stimato in base alla temperatura, sia con efficientamento che senza efficientamento\n",
    "\n",
    "Consiglio: crea un dataframe di dati fittizi: `X = pd.DataFrame({'temp': range(-10, 15, 1)})`"
   ]
  },
  {
   "cell_type": "code",
   "execution_count": 29,
   "metadata": {},
   "outputs": [],
   "source": []
  },
  {
   "cell_type": "markdown",
   "metadata": {},
   "source": [
    "14. Visualizza la differenza di consumo stimata in base alla temperatura"
   ]
  },
  {
   "cell_type": "code",
   "execution_count": 30,
   "metadata": {},
   "outputs": [],
   "source": []
  },
  {
   "cell_type": "markdown",
   "metadata": {},
   "source": [
    "15. Visualizza il rapporto tra consumo stimato con efficientamento e consumo stimato senza efficientamento in base alla temperatura"
   ]
  },
  {
   "cell_type": "code",
   "execution_count": 31,
   "metadata": {},
   "outputs": [],
   "source": []
  }
 ],
 "metadata": {
  "kernelspec": {
   "display_name": "Python 3",
   "language": "python",
   "name": "python3"
  },
  "language_info": {
   "codemirror_mode": {
    "name": "ipython",
    "version": 3
   },
   "file_extension": ".py",
   "mimetype": "text/x-python",
   "name": "python",
   "nbconvert_exporter": "python",
   "pygments_lexer": "ipython3",
   "version": "3.10.12"
  }
 },
 "nbformat": 4,
 "nbformat_minor": 2
}
