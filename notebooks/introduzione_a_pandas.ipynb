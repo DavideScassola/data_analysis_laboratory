{
  "cells": [
    {
      "cell_type": "markdown",
      "metadata": {
        "colab_type": "text",
        "id": "view-in-github"
      },
      "source": [
        "<a href=\"https://colab.research.google.com/github/DavideScassola/data_analysys_laboratory/blob/main/notebooks/introduzione_a_pandas.ipynb\" target=\"_parent\"><img src=\"https://colab.research.google.com/assets/colab-badge.svg\" alt=\"Open In Colab\"/></a>"
      ]
    },
    {
      "cell_type": "markdown",
      "metadata": {
        "id": "YneEBH1gDUgs"
      },
      "source": [
        "# Introduzione a Pandas\n",
        "\n",
        "_pandas_ è una libreria Python per fare analisi dei dati.\n",
        "\n",
        "Pandas introduce due strutture dati:\n",
        "- **Series**: una lista di dati con un indice.\n",
        "- **Data frame**: una tabella formata da diverse colonne (Series), ognuna con un nome."
      ]
    },
    {
      "cell_type": "code",
      "execution_count": 1,
      "metadata": {
        "id": "tLO0oCSlDUgt"
      },
      "outputs": [],
      "source": [
        "import os\n",
        "import pandas as pd\n",
        "import numpy as np\n",
        "import matplotlib.pyplot as plt"
      ]
    },
    {
      "cell_type": "code",
      "execution_count": 2,
      "metadata": {
        "id": "-dOPazsLHPJ5"
      },
      "outputs": [
        {
          "name": "stdout",
          "output_type": "stream",
          "text": [
            "serie con indice di default: \n",
            "0              7\n",
            "1    Hello world\n",
            "2          42.26\n",
            "dtype: object\n"
          ]
        }
      ],
      "source": [
        "# Come esempio, creiamo una serie senza specificare l'indice:\n",
        "s = pd.Series([7, 'Hello world', 42.26])\n",
        "print(\"serie con indice di default: \")\n",
        "print(s)"
      ]
    },
    {
      "cell_type": "code",
      "execution_count": 3,
      "metadata": {
        "id": "MY0xXyjMHRBZ"
      },
      "outputs": [
        {
          "name": "stdout",
          "output_type": "stream",
          "text": [
            "\n",
            "Serie con indice personalizzato: \n",
            "A              7\n",
            "B    Hello world\n",
            "C          42.26\n",
            "dtype: object\n"
          ]
        }
      ],
      "source": [
        "# Possiamo anche specificare l'indice:\n",
        "serie_con_indice = pd.Series([7, 'Hello world', 42.26], index=['A', 'B', 'C'])\n",
        "print(\"\\nSerie con indice personalizzato: \")\n",
        "print(serie_con_indice)"
      ]
    },
    {
      "cell_type": "code",
      "execution_count": 4,
      "metadata": {},
      "outputs": [
        {
          "name": "stdout",
          "output_type": "stream",
          "text": [
            "Hello world\n",
            "7\n"
          ]
        }
      ],
      "source": [
        "# Possiamo accedere agli elementi della serie tramite l'indice. Questo è molto simile a come funziona un dizionario\n",
        "print(s[1])\n",
        "print(serie_con_indice['A'])"
      ]
    },
    {
      "cell_type": "code",
      "execution_count": 5,
      "metadata": {},
      "outputs": [
        {
          "name": "stdout",
          "output_type": "stream",
          "text": [
            "0        7\n",
            "2    42.26\n",
            "dtype: object\n"
          ]
        }
      ],
      "source": [
        "# Possiamo anche selezionare più elementi della serie tramite una lista di indici:\n",
        "print(s[[0, 2]])"
      ]
    },
    {
      "cell_type": "code",
      "execution_count": 6,
      "metadata": {
        "id": "KAjH7cTrHWPW"
      },
      "outputs": [
        {
          "data": {
            "text/plain": [
              "Roma       5.800\n",
              "Venezia    0.524\n",
              "Trieste    0.408\n",
              "Torino     1.774\n",
              "dtype: float64"
            ]
          },
          "execution_count": 6,
          "metadata": {},
          "output_type": "execute_result"
        }
      ],
      "source": [
        "# Le serie sono utili perchè permettono di applicare facilmente operazioni ad ogni elemento:\n",
        "citta = pd.Series([2.9, 0.262, 0.204, 0.887],\n",
        "              index=['Roma', 'Venezia', 'Trieste', 'Torino'])\n",
        "\n",
        "citta*2"
      ]
    },
    {
      "cell_type": "code",
      "execution_count": 7,
      "metadata": {},
      "outputs": [
        {
          "data": {
            "text/plain": [
              "Roma        True\n",
              "Venezia    False\n",
              "Trieste    False\n",
              "Torino      True\n",
              "dtype: bool"
            ]
          },
          "execution_count": 7,
          "metadata": {},
          "output_type": "execute_result"
        }
      ],
      "source": [
        "citta>0.3"
      ]
    },
    {
      "cell_type": "code",
      "execution_count": 8,
      "metadata": {
        "id": "Ot8wBcR1H630"
      },
      "outputs": [
        {
          "data": {
            "text/plain": [
              "Roma      2.900\n",
              "Torino    0.887\n",
              "dtype: float64"
            ]
          },
          "execution_count": 8,
          "metadata": {},
          "output_type": "execute_result"
        }
      ],
      "source": [
        "# possiamo usare una lista di booleani per selezionare solo alcuni elementi della serie:\n",
        "# in questo caso, selezioniamo solo le città con più di 0.3 milioni di abitanti\n",
        "citta[citta>0.3]"
      ]
    },
    {
      "cell_type": "code",
      "execution_count": 9,
      "metadata": {
        "id": "m7SodyAXIAA3"
      },
      "outputs": [
        {
          "name": "stdout",
          "output_type": "stream",
          "text": [
            "Roma       3.000\n",
            "Venezia    0.262\n",
            "Trieste    0.204\n",
            "Torino     0.887\n",
            "Livorno    0.159\n",
            "dtype: float64\n"
          ]
        }
      ],
      "source": [
        "# possiamo anche modificare e aggiungere dei valori alla serie:\n",
        "citta['Roma'] = 3.0 \n",
        "citta['Livorno'] = 0.159\n",
        "\n",
        "print(citta)"
      ]
    },
    {
      "cell_type": "markdown",
      "metadata": {
        "id": "xBHxj00nDUgv"
      },
      "source": [
        "### DataFrame\n",
        "Un Dataframe è una tabella, cioè un insieme di colonne con un nome. Le colonne di un Dataframe sono infatti delle Series.\n",
        "\n",
        "Possiamo construire un dataframe a mano, costruendo ogni singola colonna:"
      ]
    },
    {
      "cell_type": "code",
      "execution_count": 10,
      "metadata": {
        "id": "VdvJ_zStDUgv"
      },
      "outputs": [
        {
          "data": {
            "text/html": [
              "<div>\n",
              "<style scoped>\n",
              "    .dataframe tbody tr th:only-of-type {\n",
              "        vertical-align: middle;\n",
              "    }\n",
              "\n",
              "    .dataframe tbody tr th {\n",
              "        vertical-align: top;\n",
              "    }\n",
              "\n",
              "    .dataframe thead th {\n",
              "        text-align: right;\n",
              "    }\n",
              "</style>\n",
              "<table border=\"1\" class=\"dataframe\">\n",
              "  <thead>\n",
              "    <tr style=\"text-align: right;\">\n",
              "      <th></th>\n",
              "      <th>letters</th>\n",
              "      <th>numbers</th>\n",
              "      <th>spelling</th>\n",
              "    </tr>\n",
              "  </thead>\n",
              "  <tbody>\n",
              "    <tr>\n",
              "      <th>0</th>\n",
              "      <td>A</td>\n",
              "      <td>1</td>\n",
              "      <td>One</td>\n",
              "    </tr>\n",
              "    <tr>\n",
              "      <th>1</th>\n",
              "      <td>B</td>\n",
              "      <td>2</td>\n",
              "      <td>Two</td>\n",
              "    </tr>\n",
              "    <tr>\n",
              "      <th>2</th>\n",
              "      <td>C</td>\n",
              "      <td>3</td>\n",
              "      <td>Three</td>\n",
              "    </tr>\n",
              "    <tr>\n",
              "      <th>3</th>\n",
              "      <td>D</td>\n",
              "      <td>4</td>\n",
              "      <td>Four</td>\n",
              "    </tr>\n",
              "  </tbody>\n",
              "</table>\n",
              "</div>"
            ],
            "text/plain": [
              "  letters  numbers spelling\n",
              "0       A        1      One\n",
              "1       B        2      Two\n",
              "2       C        3    Three\n",
              "3       D        4     Four"
            ]
          },
          "execution_count": 10,
          "metadata": {},
          "output_type": "execute_result"
        }
      ],
      "source": [
        "data = {'letters':['A', 'B', 'C', 'D'],\n",
        "       'numbers':[1, 2, 3, 4],\n",
        "       'spelling': ['One', 'Two', 'Three', 'Four']}\n",
        "letters_numbers = pd.DataFrame(data, columns=['letters', 'numbers', 'spelling'])\n",
        "letters_numbers"
      ]
    },
    {
      "cell_type": "markdown",
      "metadata": {
        "id": "25LxDgdaDUgv"
      },
      "source": [
        "Più spesso abbiamo un dataset contenuto in un file (ad esempio .csv o un excel) e lo vogliamo importare come dataframe. Pandas permette non solo di caricare un dataset da un file locale, ma anche dataset in rete se viene fornito un link!"
      ]
    },
    {
      "cell_type": "code",
      "execution_count": 11,
      "metadata": {
        "id": "_OfGkfFZDUgw"
      },
      "outputs": [
        {
          "data": {
            "text/html": [
              "<div>\n",
              "<style scoped>\n",
              "    .dataframe tbody tr th:only-of-type {\n",
              "        vertical-align: middle;\n",
              "    }\n",
              "\n",
              "    .dataframe tbody tr th {\n",
              "        vertical-align: top;\n",
              "    }\n",
              "\n",
              "    .dataframe thead th {\n",
              "        text-align: right;\n",
              "    }\n",
              "</style>\n",
              "<table border=\"1\" class=\"dataframe\">\n",
              "  <thead>\n",
              "    <tr style=\"text-align: right;\">\n",
              "      <th></th>\n",
              "      <th>score_phrase</th>\n",
              "      <th>title</th>\n",
              "      <th>url</th>\n",
              "      <th>platform</th>\n",
              "      <th>score</th>\n",
              "      <th>genre</th>\n",
              "      <th>editors_choice</th>\n",
              "      <th>release_year</th>\n",
              "      <th>release_month</th>\n",
              "      <th>release_day</th>\n",
              "    </tr>\n",
              "  </thead>\n",
              "  <tbody>\n",
              "    <tr>\n",
              "      <th>0</th>\n",
              "      <td>Amazing</td>\n",
              "      <td>LittleBigPlanet PS Vita</td>\n",
              "      <td>/games/littlebigplanet-vita/vita-98907</td>\n",
              "      <td>PlayStation Vita</td>\n",
              "      <td>9.0</td>\n",
              "      <td>Platformer</td>\n",
              "      <td>Y</td>\n",
              "      <td>2012</td>\n",
              "      <td>9</td>\n",
              "      <td>12</td>\n",
              "    </tr>\n",
              "    <tr>\n",
              "      <th>1</th>\n",
              "      <td>Amazing</td>\n",
              "      <td>LittleBigPlanet PS Vita -- Marvel Super Hero E...</td>\n",
              "      <td>/games/littlebigplanet-ps-vita-marvel-super-he...</td>\n",
              "      <td>PlayStation Vita</td>\n",
              "      <td>9.0</td>\n",
              "      <td>Platformer</td>\n",
              "      <td>Y</td>\n",
              "      <td>2012</td>\n",
              "      <td>9</td>\n",
              "      <td>12</td>\n",
              "    </tr>\n",
              "    <tr>\n",
              "      <th>2</th>\n",
              "      <td>Great</td>\n",
              "      <td>Splice: Tree of Life</td>\n",
              "      <td>/games/splice/ipad-141070</td>\n",
              "      <td>iPad</td>\n",
              "      <td>8.5</td>\n",
              "      <td>Puzzle</td>\n",
              "      <td>N</td>\n",
              "      <td>2012</td>\n",
              "      <td>9</td>\n",
              "      <td>12</td>\n",
              "    </tr>\n",
              "    <tr>\n",
              "      <th>3</th>\n",
              "      <td>Great</td>\n",
              "      <td>NHL 13</td>\n",
              "      <td>/games/nhl-13/xbox-360-128182</td>\n",
              "      <td>Xbox 360</td>\n",
              "      <td>8.5</td>\n",
              "      <td>Sports</td>\n",
              "      <td>N</td>\n",
              "      <td>2012</td>\n",
              "      <td>9</td>\n",
              "      <td>11</td>\n",
              "    </tr>\n",
              "    <tr>\n",
              "      <th>4</th>\n",
              "      <td>Great</td>\n",
              "      <td>NHL 13</td>\n",
              "      <td>/games/nhl-13/ps3-128181</td>\n",
              "      <td>PlayStation 3</td>\n",
              "      <td>8.5</td>\n",
              "      <td>Sports</td>\n",
              "      <td>N</td>\n",
              "      <td>2012</td>\n",
              "      <td>9</td>\n",
              "      <td>11</td>\n",
              "    </tr>\n",
              "    <tr>\n",
              "      <th>...</th>\n",
              "      <td>...</td>\n",
              "      <td>...</td>\n",
              "      <td>...</td>\n",
              "      <td>...</td>\n",
              "      <td>...</td>\n",
              "      <td>...</td>\n",
              "      <td>...</td>\n",
              "      <td>...</td>\n",
              "      <td>...</td>\n",
              "      <td>...</td>\n",
              "    </tr>\n",
              "    <tr>\n",
              "      <th>18620</th>\n",
              "      <td>Good</td>\n",
              "      <td>Tokyo Mirage Sessions #FE</td>\n",
              "      <td>/games/fire-emblem-x-shin-megami-tensei/wii-u-...</td>\n",
              "      <td>Wii U</td>\n",
              "      <td>7.6</td>\n",
              "      <td>RPG</td>\n",
              "      <td>N</td>\n",
              "      <td>2016</td>\n",
              "      <td>6</td>\n",
              "      <td>29</td>\n",
              "    </tr>\n",
              "    <tr>\n",
              "      <th>18621</th>\n",
              "      <td>Amazing</td>\n",
              "      <td>LEGO Star Wars: The Force Awakens</td>\n",
              "      <td>/games/lego-star-wars-the-force-awakens/ps4-20...</td>\n",
              "      <td>PlayStation 4</td>\n",
              "      <td>9.0</td>\n",
              "      <td>Action, Adventure</td>\n",
              "      <td>Y</td>\n",
              "      <td>2016</td>\n",
              "      <td>6</td>\n",
              "      <td>29</td>\n",
              "    </tr>\n",
              "    <tr>\n",
              "      <th>18622</th>\n",
              "      <td>Mediocre</td>\n",
              "      <td>Star Ocean: Integrity and Faithlessness</td>\n",
              "      <td>/games/star-ocean-5/ps4-20035681</td>\n",
              "      <td>PlayStation 4</td>\n",
              "      <td>5.8</td>\n",
              "      <td>RPG</td>\n",
              "      <td>N</td>\n",
              "      <td>2016</td>\n",
              "      <td>6</td>\n",
              "      <td>28</td>\n",
              "    </tr>\n",
              "    <tr>\n",
              "      <th>18623</th>\n",
              "      <td>Masterpiece</td>\n",
              "      <td>Inside</td>\n",
              "      <td>/games/inside-playdead/xbox-one-121435</td>\n",
              "      <td>Xbox One</td>\n",
              "      <td>10.0</td>\n",
              "      <td>Adventure</td>\n",
              "      <td>Y</td>\n",
              "      <td>2016</td>\n",
              "      <td>6</td>\n",
              "      <td>28</td>\n",
              "    </tr>\n",
              "    <tr>\n",
              "      <th>18624</th>\n",
              "      <td>Masterpiece</td>\n",
              "      <td>Inside</td>\n",
              "      <td>/games/inside-playdead/pc-20055740</td>\n",
              "      <td>PC</td>\n",
              "      <td>10.0</td>\n",
              "      <td>Adventure</td>\n",
              "      <td>Y</td>\n",
              "      <td>2016</td>\n",
              "      <td>6</td>\n",
              "      <td>28</td>\n",
              "    </tr>\n",
              "  </tbody>\n",
              "</table>\n",
              "<p>18625 rows × 10 columns</p>\n",
              "</div>"
            ],
            "text/plain": [
              "      score_phrase                                              title  \\\n",
              "0          Amazing                            LittleBigPlanet PS Vita   \n",
              "1          Amazing  LittleBigPlanet PS Vita -- Marvel Super Hero E...   \n",
              "2            Great                               Splice: Tree of Life   \n",
              "3            Great                                             NHL 13   \n",
              "4            Great                                             NHL 13   \n",
              "...            ...                                                ...   \n",
              "18620         Good                          Tokyo Mirage Sessions #FE   \n",
              "18621      Amazing                  LEGO Star Wars: The Force Awakens   \n",
              "18622     Mediocre            Star Ocean: Integrity and Faithlessness   \n",
              "18623  Masterpiece                                             Inside   \n",
              "18624  Masterpiece                                             Inside   \n",
              "\n",
              "                                                     url          platform  \\\n",
              "0                 /games/littlebigplanet-vita/vita-98907  PlayStation Vita   \n",
              "1      /games/littlebigplanet-ps-vita-marvel-super-he...  PlayStation Vita   \n",
              "2                              /games/splice/ipad-141070              iPad   \n",
              "3                          /games/nhl-13/xbox-360-128182          Xbox 360   \n",
              "4                               /games/nhl-13/ps3-128181     PlayStation 3   \n",
              "...                                                  ...               ...   \n",
              "18620  /games/fire-emblem-x-shin-megami-tensei/wii-u-...             Wii U   \n",
              "18621  /games/lego-star-wars-the-force-awakens/ps4-20...     PlayStation 4   \n",
              "18622                   /games/star-ocean-5/ps4-20035681     PlayStation 4   \n",
              "18623             /games/inside-playdead/xbox-one-121435          Xbox One   \n",
              "18624                 /games/inside-playdead/pc-20055740                PC   \n",
              "\n",
              "       score              genre editors_choice  release_year  release_month  \\\n",
              "0        9.0         Platformer              Y          2012              9   \n",
              "1        9.0         Platformer              Y          2012              9   \n",
              "2        8.5             Puzzle              N          2012              9   \n",
              "3        8.5             Sports              N          2012              9   \n",
              "4        8.5             Sports              N          2012              9   \n",
              "...      ...                ...            ...           ...            ...   \n",
              "18620    7.6                RPG              N          2016              6   \n",
              "18621    9.0  Action, Adventure              Y          2016              6   \n",
              "18622    5.8                RPG              N          2016              6   \n",
              "18623   10.0          Adventure              Y          2016              6   \n",
              "18624   10.0          Adventure              Y          2016              6   \n",
              "\n",
              "       release_day  \n",
              "0               12  \n",
              "1               12  \n",
              "2               12  \n",
              "3               11  \n",
              "4               11  \n",
              "...            ...  \n",
              "18620           29  \n",
              "18621           29  \n",
              "18622           28  \n",
              "18623           28  \n",
              "18624           28  \n",
              "\n",
              "[18625 rows x 10 columns]"
            ]
          },
          "execution_count": 11,
          "metadata": {},
          "output_type": "execute_result"
        }
      ],
      "source": [
        "# import csv dataset\n",
        "path_csv = 'https://raw.githubusercontent.com/GaiaSaveri/intro-to-ml/main/data/ign.csv'\n",
        "reviews = pd.read_csv(path_csv, index_col=0)\n",
        "reviews"
      ]
    },
    {
      "cell_type": "markdown",
      "metadata": {},
      "source": [
        "Possiamo vedere un dataframe come un dizionario di Series:"
      ]
    },
    {
      "cell_type": "code",
      "execution_count": 12,
      "metadata": {},
      "outputs": [
        {
          "name": "stdout",
          "output_type": "stream",
          "text": [
            "colonne:  Index(['score_phrase', 'title', 'url', 'platform', 'score', 'genre',\n",
            "       'editors_choice', 'release_year', 'release_month', 'release_day'],\n",
            "      dtype='object')\n"
          ]
        },
        {
          "data": {
            "text/plain": [
              "0                                  LittleBigPlanet PS Vita\n",
              "1        LittleBigPlanet PS Vita -- Marvel Super Hero E...\n",
              "2                                     Splice: Tree of Life\n",
              "3                                                   NHL 13\n",
              "4                                                   NHL 13\n",
              "                               ...                        \n",
              "18620                            Tokyo Mirage Sessions #FE\n",
              "18621                    LEGO Star Wars: The Force Awakens\n",
              "18622              Star Ocean: Integrity and Faithlessness\n",
              "18623                                               Inside\n",
              "18624                                               Inside\n",
              "Name: title, Length: 18625, dtype: object"
            ]
          },
          "execution_count": 12,
          "metadata": {},
          "output_type": "execute_result"
        }
      ],
      "source": [
        "print(\"colonne: \", reviews.columns)\n",
        "\n",
        "reviews['title']"
      ]
    },
    {
      "cell_type": "markdown",
      "metadata": {},
      "source": [
        "Come per le serie, possiamo selezionare delle righe di un dataframe tramite una lista di indici:"
      ]
    },
    {
      "cell_type": "code",
      "execution_count": 13,
      "metadata": {},
      "outputs": [
        {
          "data": {
            "text/html": [
              "<div>\n",
              "<style scoped>\n",
              "    .dataframe tbody tr th:only-of-type {\n",
              "        vertical-align: middle;\n",
              "    }\n",
              "\n",
              "    .dataframe tbody tr th {\n",
              "        vertical-align: top;\n",
              "    }\n",
              "\n",
              "    .dataframe thead th {\n",
              "        text-align: right;\n",
              "    }\n",
              "</style>\n",
              "<table border=\"1\" class=\"dataframe\">\n",
              "  <thead>\n",
              "    <tr style=\"text-align: right;\">\n",
              "      <th></th>\n",
              "      <th>score_phrase</th>\n",
              "      <th>title</th>\n",
              "      <th>url</th>\n",
              "      <th>platform</th>\n",
              "      <th>score</th>\n",
              "      <th>genre</th>\n",
              "      <th>editors_choice</th>\n",
              "      <th>release_year</th>\n",
              "      <th>release_month</th>\n",
              "      <th>release_day</th>\n",
              "    </tr>\n",
              "  </thead>\n",
              "  <tbody>\n",
              "    <tr>\n",
              "      <th>45</th>\n",
              "      <td>Amazing</td>\n",
              "      <td>Bad Piggies</td>\n",
              "      <td>/games/bad-piggies/iphone-141455</td>\n",
              "      <td>iPhone</td>\n",
              "      <td>9.2</td>\n",
              "      <td>Action</td>\n",
              "      <td>Y</td>\n",
              "      <td>2012</td>\n",
              "      <td>10</td>\n",
              "      <td>1</td>\n",
              "    </tr>\n",
              "    <tr>\n",
              "      <th>15</th>\n",
              "      <td>Okay</td>\n",
              "      <td>Home: A Unique Horror Adventure</td>\n",
              "      <td>/games/home-a-unique-horror-adventure/mac-2001...</td>\n",
              "      <td>Macintosh</td>\n",
              "      <td>6.5</td>\n",
              "      <td>Adventure</td>\n",
              "      <td>N</td>\n",
              "      <td>2012</td>\n",
              "      <td>9</td>\n",
              "      <td>6</td>\n",
              "    </tr>\n",
              "    <tr>\n",
              "      <th>160</th>\n",
              "      <td>Good</td>\n",
              "      <td>10000000</td>\n",
              "      <td>/games/10000000/iphone-139135</td>\n",
              "      <td>iPhone</td>\n",
              "      <td>7.5</td>\n",
              "      <td>NaN</td>\n",
              "      <td>N</td>\n",
              "      <td>2012</td>\n",
              "      <td>8</td>\n",
              "      <td>9</td>\n",
              "    </tr>\n",
              "  </tbody>\n",
              "</table>\n",
              "</div>"
            ],
            "text/plain": [
              "    score_phrase                            title  \\\n",
              "45       Amazing                      Bad Piggies   \n",
              "15          Okay  Home: A Unique Horror Adventure   \n",
              "160         Good                         10000000   \n",
              "\n",
              "                                                   url   platform  score  \\\n",
              "45                    /games/bad-piggies/iphone-141455     iPhone    9.2   \n",
              "15   /games/home-a-unique-horror-adventure/mac-2001...  Macintosh    6.5   \n",
              "160                      /games/10000000/iphone-139135     iPhone    7.5   \n",
              "\n",
              "         genre editors_choice  release_year  release_month  release_day  \n",
              "45      Action              Y          2012             10            1  \n",
              "15   Adventure              N          2012              9            6  \n",
              "160        NaN              N          2012              8            9  "
            ]
          },
          "execution_count": 13,
          "metadata": {},
          "output_type": "execute_result"
        }
      ],
      "source": [
        "reviews.loc[[45,15,160]]"
      ]
    },
    {
      "cell_type": "markdown",
      "metadata": {},
      "source": [
        "Oppure possiamo selezionare un sottoinsieme di righe e colonne in base all'ordine:"
      ]
    },
    {
      "cell_type": "code",
      "execution_count": 14,
      "metadata": {},
      "outputs": [
        {
          "data": {
            "text/html": [
              "<div>\n",
              "<style scoped>\n",
              "    .dataframe tbody tr th:only-of-type {\n",
              "        vertical-align: middle;\n",
              "    }\n",
              "\n",
              "    .dataframe tbody tr th {\n",
              "        vertical-align: top;\n",
              "    }\n",
              "\n",
              "    .dataframe thead th {\n",
              "        text-align: right;\n",
              "    }\n",
              "</style>\n",
              "<table border=\"1\" class=\"dataframe\">\n",
              "  <thead>\n",
              "    <tr style=\"text-align: right;\">\n",
              "      <th></th>\n",
              "      <th>score_phrase</th>\n",
              "      <th>title</th>\n",
              "    </tr>\n",
              "  </thead>\n",
              "  <tbody>\n",
              "    <tr>\n",
              "      <th>0</th>\n",
              "      <td>Amazing</td>\n",
              "      <td>LittleBigPlanet PS Vita</td>\n",
              "    </tr>\n",
              "    <tr>\n",
              "      <th>1</th>\n",
              "      <td>Amazing</td>\n",
              "      <td>LittleBigPlanet PS Vita -- Marvel Super Hero E...</td>\n",
              "    </tr>\n",
              "    <tr>\n",
              "      <th>2</th>\n",
              "      <td>Great</td>\n",
              "      <td>Splice: Tree of Life</td>\n",
              "    </tr>\n",
              "    <tr>\n",
              "      <th>3</th>\n",
              "      <td>Great</td>\n",
              "      <td>NHL 13</td>\n",
              "    </tr>\n",
              "    <tr>\n",
              "      <th>4</th>\n",
              "      <td>Great</td>\n",
              "      <td>NHL 13</td>\n",
              "    </tr>\n",
              "    <tr>\n",
              "      <th>5</th>\n",
              "      <td>Good</td>\n",
              "      <td>Total War Battles: Shogun</td>\n",
              "    </tr>\n",
              "    <tr>\n",
              "      <th>6</th>\n",
              "      <td>Awful</td>\n",
              "      <td>Double Dragon: Neon</td>\n",
              "    </tr>\n",
              "    <tr>\n",
              "      <th>7</th>\n",
              "      <td>Amazing</td>\n",
              "      <td>Guild Wars 2</td>\n",
              "    </tr>\n",
              "    <tr>\n",
              "      <th>8</th>\n",
              "      <td>Awful</td>\n",
              "      <td>Double Dragon: Neon</td>\n",
              "    </tr>\n",
              "    <tr>\n",
              "      <th>9</th>\n",
              "      <td>Good</td>\n",
              "      <td>Total War Battles: Shogun</td>\n",
              "    </tr>\n",
              "  </tbody>\n",
              "</table>\n",
              "</div>"
            ],
            "text/plain": [
              "  score_phrase                                              title\n",
              "0      Amazing                            LittleBigPlanet PS Vita\n",
              "1      Amazing  LittleBigPlanet PS Vita -- Marvel Super Hero E...\n",
              "2        Great                               Splice: Tree of Life\n",
              "3        Great                                             NHL 13\n",
              "4        Great                                             NHL 13\n",
              "5         Good                          Total War Battles: Shogun\n",
              "6        Awful                                Double Dragon: Neon\n",
              "7      Amazing                                       Guild Wars 2\n",
              "8        Awful                                Double Dragon: Neon\n",
              "9         Good                          Total War Battles: Shogun"
            ]
          },
          "execution_count": 14,
          "metadata": {},
          "output_type": "execute_result"
        }
      ],
      "source": [
        "# seleziona un sottoinsieme di colonne e righe\n",
        "reviews.iloc[0:10, 0:2] # prime dieci righe, prime due colonne"
      ]
    },
    {
      "cell_type": "code",
      "execution_count": 15,
      "metadata": {
        "id": "_7OY9JNmDUgx"
      },
      "outputs": [
        {
          "data": {
            "text/html": [
              "<div>\n",
              "<style scoped>\n",
              "    .dataframe tbody tr th:only-of-type {\n",
              "        vertical-align: middle;\n",
              "    }\n",
              "\n",
              "    .dataframe tbody tr th {\n",
              "        vertical-align: top;\n",
              "    }\n",
              "\n",
              "    .dataframe thead th {\n",
              "        text-align: right;\n",
              "    }\n",
              "</style>\n",
              "<table border=\"1\" class=\"dataframe\">\n",
              "  <thead>\n",
              "    <tr style=\"text-align: right;\">\n",
              "      <th></th>\n",
              "      <th>title</th>\n",
              "      <th>score</th>\n",
              "    </tr>\n",
              "  </thead>\n",
              "  <tbody>\n",
              "    <tr>\n",
              "      <th>0</th>\n",
              "      <td>LittleBigPlanet PS Vita</td>\n",
              "      <td>9.0</td>\n",
              "    </tr>\n",
              "    <tr>\n",
              "      <th>1</th>\n",
              "      <td>LittleBigPlanet PS Vita -- Marvel Super Hero E...</td>\n",
              "      <td>9.0</td>\n",
              "    </tr>\n",
              "    <tr>\n",
              "      <th>2</th>\n",
              "      <td>Splice: Tree of Life</td>\n",
              "      <td>8.5</td>\n",
              "    </tr>\n",
              "    <tr>\n",
              "      <th>3</th>\n",
              "      <td>NHL 13</td>\n",
              "      <td>8.5</td>\n",
              "    </tr>\n",
              "    <tr>\n",
              "      <th>4</th>\n",
              "      <td>NHL 13</td>\n",
              "      <td>8.5</td>\n",
              "    </tr>\n",
              "    <tr>\n",
              "      <th>5</th>\n",
              "      <td>Total War Battles: Shogun</td>\n",
              "      <td>7.0</td>\n",
              "    </tr>\n",
              "    <tr>\n",
              "      <th>6</th>\n",
              "      <td>Double Dragon: Neon</td>\n",
              "      <td>3.0</td>\n",
              "    </tr>\n",
              "    <tr>\n",
              "      <th>7</th>\n",
              "      <td>Guild Wars 2</td>\n",
              "      <td>9.0</td>\n",
              "    </tr>\n",
              "    <tr>\n",
              "      <th>8</th>\n",
              "      <td>Double Dragon: Neon</td>\n",
              "      <td>3.0</td>\n",
              "    </tr>\n",
              "    <tr>\n",
              "      <th>9</th>\n",
              "      <td>Total War Battles: Shogun</td>\n",
              "      <td>7.0</td>\n",
              "    </tr>\n",
              "    <tr>\n",
              "      <th>10</th>\n",
              "      <td>Tekken Tag Tournament 2</td>\n",
              "      <td>7.5</td>\n",
              "    </tr>\n",
              "  </tbody>\n",
              "</table>\n",
              "</div>"
            ],
            "text/plain": [
              "                                                title  score\n",
              "0                             LittleBigPlanet PS Vita    9.0\n",
              "1   LittleBigPlanet PS Vita -- Marvel Super Hero E...    9.0\n",
              "2                                Splice: Tree of Life    8.5\n",
              "3                                              NHL 13    8.5\n",
              "4                                              NHL 13    8.5\n",
              "5                           Total War Battles: Shogun    7.0\n",
              "6                                 Double Dragon: Neon    3.0\n",
              "7                                        Guild Wars 2    9.0\n",
              "8                                 Double Dragon: Neon    3.0\n",
              "9                           Total War Battles: Shogun    7.0\n",
              "10                            Tekken Tag Tournament 2    7.5"
            ]
          },
          "execution_count": 15,
          "metadata": {},
          "output_type": "execute_result"
        }
      ],
      "source": [
        "# seleziona un sottoinsieme di colonne e righe\n",
        "reviews.loc[0:10, [\"title\", \"score\"]]"
      ]
    },
    {
      "cell_type": "code",
      "execution_count": 16,
      "metadata": {
        "id": "XoFKS3zQDUgx"
      },
      "outputs": [
        {
          "data": {
            "text/html": [
              "<div>\n",
              "<style scoped>\n",
              "    .dataframe tbody tr th:only-of-type {\n",
              "        vertical-align: middle;\n",
              "    }\n",
              "\n",
              "    .dataframe tbody tr th {\n",
              "        vertical-align: top;\n",
              "    }\n",
              "\n",
              "    .dataframe thead th {\n",
              "        text-align: right;\n",
              "    }\n",
              "</style>\n",
              "<table border=\"1\" class=\"dataframe\">\n",
              "  <thead>\n",
              "    <tr style=\"text-align: right;\">\n",
              "      <th></th>\n",
              "      <th>title</th>\n",
              "      <th>score</th>\n",
              "    </tr>\n",
              "  </thead>\n",
              "  <tbody>\n",
              "    <tr>\n",
              "      <th>0</th>\n",
              "      <td>LittleBigPlanet PS Vita</td>\n",
              "      <td>9.0</td>\n",
              "    </tr>\n",
              "    <tr>\n",
              "      <th>1</th>\n",
              "      <td>LittleBigPlanet PS Vita -- Marvel Super Hero E...</td>\n",
              "      <td>9.0</td>\n",
              "    </tr>\n",
              "    <tr>\n",
              "      <th>2</th>\n",
              "      <td>Splice: Tree of Life</td>\n",
              "      <td>8.5</td>\n",
              "    </tr>\n",
              "    <tr>\n",
              "      <th>3</th>\n",
              "      <td>NHL 13</td>\n",
              "      <td>8.5</td>\n",
              "    </tr>\n",
              "    <tr>\n",
              "      <th>4</th>\n",
              "      <td>NHL 13</td>\n",
              "      <td>8.5</td>\n",
              "    </tr>\n",
              "    <tr>\n",
              "      <th>...</th>\n",
              "      <td>...</td>\n",
              "      <td>...</td>\n",
              "    </tr>\n",
              "    <tr>\n",
              "      <th>18620</th>\n",
              "      <td>Tokyo Mirage Sessions #FE</td>\n",
              "      <td>7.6</td>\n",
              "    </tr>\n",
              "    <tr>\n",
              "      <th>18621</th>\n",
              "      <td>LEGO Star Wars: The Force Awakens</td>\n",
              "      <td>9.0</td>\n",
              "    </tr>\n",
              "    <tr>\n",
              "      <th>18622</th>\n",
              "      <td>Star Ocean: Integrity and Faithlessness</td>\n",
              "      <td>5.8</td>\n",
              "    </tr>\n",
              "    <tr>\n",
              "      <th>18623</th>\n",
              "      <td>Inside</td>\n",
              "      <td>10.0</td>\n",
              "    </tr>\n",
              "    <tr>\n",
              "      <th>18624</th>\n",
              "      <td>Inside</td>\n",
              "      <td>10.0</td>\n",
              "    </tr>\n",
              "  </tbody>\n",
              "</table>\n",
              "<p>18625 rows × 2 columns</p>\n",
              "</div>"
            ],
            "text/plain": [
              "                                                   title  score\n",
              "0                                LittleBigPlanet PS Vita    9.0\n",
              "1      LittleBigPlanet PS Vita -- Marvel Super Hero E...    9.0\n",
              "2                                   Splice: Tree of Life    8.5\n",
              "3                                                 NHL 13    8.5\n",
              "4                                                 NHL 13    8.5\n",
              "...                                                  ...    ...\n",
              "18620                          Tokyo Mirage Sessions #FE    7.6\n",
              "18621                  LEGO Star Wars: The Force Awakens    9.0\n",
              "18622            Star Ocean: Integrity and Faithlessness    5.8\n",
              "18623                                             Inside   10.0\n",
              "18624                                             Inside   10.0\n",
              "\n",
              "[18625 rows x 2 columns]"
            ]
          },
          "execution_count": 16,
          "metadata": {},
          "output_type": "execute_result"
        }
      ],
      "source": [
        "# seleziona un sottoinsieme di colonne tenendo tutte le righe\n",
        "reviews[[\"title\", \"score\"]]"
      ]
    },
    {
      "cell_type": "code",
      "execution_count": 17,
      "metadata": {
        "id": "4MQcwyIODUgx"
      },
      "outputs": [
        {
          "data": {
            "text/plain": [
              "0        False\n",
              "1        False\n",
              "2        False\n",
              "3        False\n",
              "4        False\n",
              "         ...  \n",
              "18620    False\n",
              "18621    False\n",
              "18622    False\n",
              "18623     True\n",
              "18624     True\n",
              "Name: score, Length: 18625, dtype: bool"
            ]
          },
          "execution_count": 17,
          "metadata": {},
          "output_type": "execute_result"
        }
      ],
      "source": [
        "# come per le serie, possiamo selezionare solo alcune righe attraverso una lista di booleani\n",
        "mask = reviews[\"score\"] >= 9.5 \n",
        "mask # series of booleans"
      ]
    },
    {
      "cell_type": "code",
      "execution_count": 18,
      "metadata": {
        "id": "MW4o9dKkDUgy"
      },
      "outputs": [
        {
          "data": {
            "text/html": [
              "<div>\n",
              "<style scoped>\n",
              "    .dataframe tbody tr th:only-of-type {\n",
              "        vertical-align: middle;\n",
              "    }\n",
              "\n",
              "    .dataframe tbody tr th {\n",
              "        vertical-align: top;\n",
              "    }\n",
              "\n",
              "    .dataframe thead th {\n",
              "        text-align: right;\n",
              "    }\n",
              "</style>\n",
              "<table border=\"1\" class=\"dataframe\">\n",
              "  <thead>\n",
              "    <tr style=\"text-align: right;\">\n",
              "      <th></th>\n",
              "      <th>score_phrase</th>\n",
              "      <th>title</th>\n",
              "      <th>url</th>\n",
              "      <th>platform</th>\n",
              "      <th>score</th>\n",
              "      <th>genre</th>\n",
              "      <th>editors_choice</th>\n",
              "      <th>release_year</th>\n",
              "      <th>release_month</th>\n",
              "      <th>release_day</th>\n",
              "    </tr>\n",
              "  </thead>\n",
              "  <tbody>\n",
              "    <tr>\n",
              "      <th>33</th>\n",
              "      <td>Amazing</td>\n",
              "      <td>Pokemon White Version 2</td>\n",
              "      <td>/games/pokemon-white-version-2/nds-129228</td>\n",
              "      <td>Nintendo DS</td>\n",
              "      <td>9.6</td>\n",
              "      <td>RPG</td>\n",
              "      <td>Y</td>\n",
              "      <td>2012</td>\n",
              "      <td>10</td>\n",
              "      <td>3</td>\n",
              "    </tr>\n",
              "    <tr>\n",
              "      <th>35</th>\n",
              "      <td>Amazing</td>\n",
              "      <td>Pokemon Black Version 2</td>\n",
              "      <td>/games/pokemon-black-version-2/nds-129224</td>\n",
              "      <td>Nintendo DS</td>\n",
              "      <td>9.6</td>\n",
              "      <td>RPG</td>\n",
              "      <td>Y</td>\n",
              "      <td>2012</td>\n",
              "      <td>10</td>\n",
              "      <td>3</td>\n",
              "    </tr>\n",
              "    <tr>\n",
              "      <th>52</th>\n",
              "      <td>Amazing</td>\n",
              "      <td>The World Ends with You: Solo Remix</td>\n",
              "      <td>/games/the-world-ends-with-you-solo-remix/ipad...</td>\n",
              "      <td>iPad</td>\n",
              "      <td>9.5</td>\n",
              "      <td>RPG</td>\n",
              "      <td>Y</td>\n",
              "      <td>2012</td>\n",
              "      <td>8</td>\n",
              "      <td>27</td>\n",
              "    </tr>\n",
              "    <tr>\n",
              "      <th>54</th>\n",
              "      <td>Amazing</td>\n",
              "      <td>The World Ends with You: Solo Remix</td>\n",
              "      <td>/games/the-world-ends-with-you-solo-remix/ipho...</td>\n",
              "      <td>iPhone</td>\n",
              "      <td>9.5</td>\n",
              "      <td>RPG</td>\n",
              "      <td>Y</td>\n",
              "      <td>2012</td>\n",
              "      <td>8</td>\n",
              "      <td>27</td>\n",
              "    </tr>\n",
              "    <tr>\n",
              "      <th>135</th>\n",
              "      <td>Amazing</td>\n",
              "      <td>Zero Escape: Virtue's Last Reward</td>\n",
              "      <td>/games/virtues-last-reward/3ds-116383</td>\n",
              "      <td>Nintendo 3DS</td>\n",
              "      <td>9.5</td>\n",
              "      <td>Adventure</td>\n",
              "      <td>Y</td>\n",
              "      <td>2012</td>\n",
              "      <td>10</td>\n",
              "      <td>23</td>\n",
              "    </tr>\n",
              "    <tr>\n",
              "      <th>...</th>\n",
              "      <td>...</td>\n",
              "      <td>...</td>\n",
              "      <td>...</td>\n",
              "      <td>...</td>\n",
              "      <td>...</td>\n",
              "      <td>...</td>\n",
              "      <td>...</td>\n",
              "      <td>...</td>\n",
              "      <td>...</td>\n",
              "      <td>...</td>\n",
              "    </tr>\n",
              "    <tr>\n",
              "      <th>18511</th>\n",
              "      <td>Masterpiece</td>\n",
              "      <td>Inside</td>\n",
              "      <td>/games/inside-playdead/ps4-20056859</td>\n",
              "      <td>PlayStation 4</td>\n",
              "      <td>10.0</td>\n",
              "      <td>Adventure</td>\n",
              "      <td>Y</td>\n",
              "      <td>2016</td>\n",
              "      <td>6</td>\n",
              "      <td>28</td>\n",
              "    </tr>\n",
              "    <tr>\n",
              "      <th>18562</th>\n",
              "      <td>Amazing</td>\n",
              "      <td>Odin Sphere Leifthrasir</td>\n",
              "      <td>/games/odin-sphere-leifthrasir/ps4-20040524</td>\n",
              "      <td>PlayStation 4</td>\n",
              "      <td>9.5</td>\n",
              "      <td>RPG</td>\n",
              "      <td>Y</td>\n",
              "      <td>2016</td>\n",
              "      <td>6</td>\n",
              "      <td>1</td>\n",
              "    </tr>\n",
              "    <tr>\n",
              "      <th>18563</th>\n",
              "      <td>Amazing</td>\n",
              "      <td>Odin Sphere Leifthrasir</td>\n",
              "      <td>/games/odin-sphere-leifthrasir/vita-20040525</td>\n",
              "      <td>PlayStation Vita</td>\n",
              "      <td>9.5</td>\n",
              "      <td>RPG</td>\n",
              "      <td>Y</td>\n",
              "      <td>2016</td>\n",
              "      <td>6</td>\n",
              "      <td>1</td>\n",
              "    </tr>\n",
              "    <tr>\n",
              "      <th>18623</th>\n",
              "      <td>Masterpiece</td>\n",
              "      <td>Inside</td>\n",
              "      <td>/games/inside-playdead/xbox-one-121435</td>\n",
              "      <td>Xbox One</td>\n",
              "      <td>10.0</td>\n",
              "      <td>Adventure</td>\n",
              "      <td>Y</td>\n",
              "      <td>2016</td>\n",
              "      <td>6</td>\n",
              "      <td>28</td>\n",
              "    </tr>\n",
              "    <tr>\n",
              "      <th>18624</th>\n",
              "      <td>Masterpiece</td>\n",
              "      <td>Inside</td>\n",
              "      <td>/games/inside-playdead/pc-20055740</td>\n",
              "      <td>PC</td>\n",
              "      <td>10.0</td>\n",
              "      <td>Adventure</td>\n",
              "      <td>Y</td>\n",
              "      <td>2016</td>\n",
              "      <td>6</td>\n",
              "      <td>28</td>\n",
              "    </tr>\n",
              "  </tbody>\n",
              "</table>\n",
              "<p>385 rows × 10 columns</p>\n",
              "</div>"
            ],
            "text/plain": [
              "      score_phrase                                title  \\\n",
              "33         Amazing              Pokemon White Version 2   \n",
              "35         Amazing              Pokemon Black Version 2   \n",
              "52         Amazing  The World Ends with You: Solo Remix   \n",
              "54         Amazing  The World Ends with You: Solo Remix   \n",
              "135        Amazing    Zero Escape: Virtue's Last Reward   \n",
              "...            ...                                  ...   \n",
              "18511  Masterpiece                               Inside   \n",
              "18562      Amazing              Odin Sphere Leifthrasir   \n",
              "18563      Amazing              Odin Sphere Leifthrasir   \n",
              "18623  Masterpiece                               Inside   \n",
              "18624  Masterpiece                               Inside   \n",
              "\n",
              "                                                     url          platform  \\\n",
              "33             /games/pokemon-white-version-2/nds-129228       Nintendo DS   \n",
              "35             /games/pokemon-black-version-2/nds-129224       Nintendo DS   \n",
              "52     /games/the-world-ends-with-you-solo-remix/ipad...              iPad   \n",
              "54     /games/the-world-ends-with-you-solo-remix/ipho...            iPhone   \n",
              "135                /games/virtues-last-reward/3ds-116383      Nintendo 3DS   \n",
              "...                                                  ...               ...   \n",
              "18511                /games/inside-playdead/ps4-20056859     PlayStation 4   \n",
              "18562        /games/odin-sphere-leifthrasir/ps4-20040524     PlayStation 4   \n",
              "18563       /games/odin-sphere-leifthrasir/vita-20040525  PlayStation Vita   \n",
              "18623             /games/inside-playdead/xbox-one-121435          Xbox One   \n",
              "18624                 /games/inside-playdead/pc-20055740                PC   \n",
              "\n",
              "       score      genre editors_choice  release_year  release_month  \\\n",
              "33       9.6        RPG              Y          2012             10   \n",
              "35       9.6        RPG              Y          2012             10   \n",
              "52       9.5        RPG              Y          2012              8   \n",
              "54       9.5        RPG              Y          2012              8   \n",
              "135      9.5  Adventure              Y          2012             10   \n",
              "...      ...        ...            ...           ...            ...   \n",
              "18511   10.0  Adventure              Y          2016              6   \n",
              "18562    9.5        RPG              Y          2016              6   \n",
              "18563    9.5        RPG              Y          2016              6   \n",
              "18623   10.0  Adventure              Y          2016              6   \n",
              "18624   10.0  Adventure              Y          2016              6   \n",
              "\n",
              "       release_day  \n",
              "33               3  \n",
              "35               3  \n",
              "52              27  \n",
              "54              27  \n",
              "135             23  \n",
              "...            ...  \n",
              "18511           28  \n",
              "18562            1  \n",
              "18563            1  \n",
              "18623           28  \n",
              "18624           28  \n",
              "\n",
              "[385 rows x 10 columns]"
            ]
          },
          "execution_count": 18,
          "metadata": {},
          "output_type": "execute_result"
        }
      ],
      "source": [
        "# seleziona solo i videogiochi con score >= 9.5\n",
        "reviews[reviews[\"score\"] >= 9.5]"
      ]
    },
    {
      "cell_type": "markdown",
      "metadata": {
        "id": "kDL_BnIbDUgy"
      },
      "source": [
        "Le seguenti sono funzioni che permettono di calcolare varie informazioni e statistiche su Dataframe e Series:"
      ]
    },
    {
      "cell_type": "code",
      "execution_count": 19,
      "metadata": {
        "id": "Nlf20rS3DUgy"
      },
      "outputs": [
        {
          "name": "stdout",
          "output_type": "stream",
          "text": [
            "<class 'pandas.core.frame.DataFrame'>\n",
            "Index: 18625 entries, 0 to 18624\n",
            "Data columns (total 10 columns):\n",
            " #   Column          Non-Null Count  Dtype  \n",
            "---  ------          --------------  -----  \n",
            " 0   score_phrase    18625 non-null  object \n",
            " 1   title           18625 non-null  object \n",
            " 2   url             18625 non-null  object \n",
            " 3   platform        18625 non-null  object \n",
            " 4   score           18625 non-null  float64\n",
            " 5   genre           18589 non-null  object \n",
            " 6   editors_choice  18625 non-null  object \n",
            " 7   release_year    18625 non-null  int64  \n",
            " 8   release_month   18625 non-null  int64  \n",
            " 9   release_day     18625 non-null  int64  \n",
            "dtypes: float64(1), int64(3), object(6)\n",
            "memory usage: 2.1+ MB\n"
          ]
        }
      ],
      "source": [
        "# Informazioni sulle colonne di un DataFrame\n",
        "reviews.info() "
      ]
    },
    {
      "cell_type": "code",
      "execution_count": 20,
      "metadata": {
        "id": "HfAdDT0UDUgy"
      },
      "outputs": [
        {
          "name": "stdout",
          "output_type": "stream",
          "text": [
            "media score:  6.950459060402685\n",
            "mediana score:  7.3\n",
            "massimo score:  10.0\n"
          ]
        }
      ],
      "source": [
        "print('media score: ', reviews['score'].mean())\n",
        "print('mediana score: ', reviews['score'].median())\n",
        "print('massimo score: ', reviews['score'].max())"
      ]
    },
    {
      "cell_type": "markdown",
      "metadata": {
        "id": "BA7yfKkmDUg1"
      },
      "source": [
        "## Visualizzare i dati\n",
        "\n",
        "La libreria più utilizzata per fare grafici è matplotlib"
      ]
    },
    {
      "cell_type": "code",
      "execution_count": 21,
      "metadata": {
        "id": "JhiHW2RSDUg1"
      },
      "outputs": [],
      "source": [
        "import matplotlib.pyplot as plt"
      ]
    },
    {
      "cell_type": "code",
      "execution_count": 22,
      "metadata": {},
      "outputs": [
        {
          "data": {
            "image/png": "[encoded data removed]",
            "text/plain": [
              "<Figure size 432x288 with 1 Axes>"
            ]
          },
          "metadata": {
            "needs_background": "light"
          },
          "output_type": "display_data"
        }
      ],
      "source": [
        "# istogramma\n",
        "_ = plt.hist(reviews[\"score\"])"
      ]
    },
    {
      "cell_type": "code",
      "execution_count": 23,
      "metadata": {},
      "outputs": [
        {
          "data": {
            "image/png": "[encoded data removed]",
            "text/plain": [
              "<Figure size 432x288 with 1 Axes>"
            ]
          },
          "metadata": {
            "needs_background": "light"
          },
          "output_type": "display_data"
        }
      ],
      "source": [
        "# mostrare una serie di numeri (sull'asse x viene messo l'indice)\n",
        "y = [2, 4, 5, 6, 10, 2, 13, 10]\n",
        "_ = plt.plot(y)"
      ]
    },
    {
      "cell_type": "code",
      "execution_count": 24,
      "metadata": {
        "id": "Uvxgwb-PDUg1"
      },
      "outputs": [
        {
          "data": {
            "image/png": "[encoded data removed]",
            "text/plain": [
              "<Figure size 432x288 with 1 Axes>"
            ]
          },
          "metadata": {
            "needs_background": "light"
          },
          "output_type": "display_data"
        }
      ],
      "source": [
        "# possiamo modificare lo stile del grafico\n",
        "_ = plt.plot(y, 'o')"
      ]
    },
    {
      "cell_type": "code",
      "execution_count": 25,
      "metadata": {},
      "outputs": [
        {
          "data": {
            "image/png": "[encoded data removed]",
            "text/plain": [
              "<Figure size 432x288 with 1 Axes>"
            ]
          },
          "metadata": {
            "needs_background": "light"
          },
          "output_type": "display_data"
        }
      ],
      "source": [
        "# Possiamo mostrare una serie di coordinate (x, y)\n",
        "x = [10, 10, 4, 4, 7]\n",
        "y = [5, 3, 5, 3, 4]\n",
        "\n",
        "_ = plt.plot(x, y, 'o', color='purple')"
      ]
    }
  ],
  "metadata": {
    "colab": {
      "include_colab_link": true,
      "provenance": []
    },
    "kernelspec": {
      "display_name": "Python 3",
      "language": "python",
      "name": "python3"
    },
    "language_info": {
      "codemirror_mode": {
        "name": "ipython",
        "version": 3
      },
      "file_extension": ".py",
      "mimetype": "text/x-python",
      "name": "python",
      "nbconvert_exporter": "python",
      "pygments_lexer": "ipython3",
      "version": "3.10.12"
    }
  },
  "nbformat": 4,
  "nbformat_minor": 0
}
